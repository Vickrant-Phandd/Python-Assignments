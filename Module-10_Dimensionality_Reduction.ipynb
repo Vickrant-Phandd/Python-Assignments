{
 "cells": [
  {
   "cell_type": "code",
   "execution_count": 125,
   "id": "a368355c",
   "metadata": {},
   "outputs": [],
   "source": [
    "# - Using load_digits function from sklearn import wines data\n",
    "import pandas as pd\n",
    "import numpy as np\n",
    "import sklearn \n",
    "from sklearn.datasets import load_wine\n",
    "import matplotlib.pyplot as plt\n",
    "%matplotlib inline"
   ]
  },
  {
   "cell_type": "code",
   "execution_count": 126,
   "id": "693684a1",
   "metadata": {},
   "outputs": [],
   "source": [
    "# Loading dataset\n",
    "data = load_wine()\n",
    "# Configuring pandas to show all features\n",
    "pd.set_option(\"display.max_rows\", None, \"display.max_columns\", None)"
   ]
  },
  {
   "cell_type": "code",
   "execution_count": 127,
   "id": "9c41a95b",
   "metadata": {},
   "outputs": [
    {
     "data": {
      "text/plain": [
       "dict_keys(['data', 'target', 'frame', 'target_names', 'DESCR', 'feature_names'])"
      ]
     },
     "execution_count": 127,
     "metadata": {},
     "output_type": "execute_result"
    }
   ],
   "source": [
    "data.keys()"
   ]
  },
  {
   "cell_type": "code",
   "execution_count": 128,
   "id": "c6097947",
   "metadata": {},
   "outputs": [
    {
     "data": {
      "text/plain": [
       "['alcohol',\n",
       " 'malic_acid',\n",
       " 'ash',\n",
       " 'alcalinity_of_ash',\n",
       " 'magnesium',\n",
       " 'total_phenols',\n",
       " 'flavanoids',\n",
       " 'nonflavanoid_phenols',\n",
       " 'proanthocyanins',\n",
       " 'color_intensity',\n",
       " 'hue',\n",
       " 'od280/od315_of_diluted_wines',\n",
       " 'proline']"
      ]
     },
     "execution_count": 128,
     "metadata": {},
     "output_type": "execute_result"
    }
   ],
   "source": [
    "data.feature_names"
   ]
  },
  {
   "cell_type": "code",
   "execution_count": 129,
   "id": "a0ce3011",
   "metadata": {},
   "outputs": [
    {
     "data": {
      "text/plain": [
       "array([0, 0, 0, 0, 0, 0, 0, 0, 0, 0, 0, 0, 0, 0, 0, 0, 0, 0, 0, 0, 0, 0,\n",
       "       0, 0, 0, 0, 0, 0, 0, 0, 0, 0, 0, 0, 0, 0, 0, 0, 0, 0, 0, 0, 0, 0,\n",
       "       0, 0, 0, 0, 0, 0, 0, 0, 0, 0, 0, 0, 0, 0, 0, 1, 1, 1, 1, 1, 1, 1,\n",
       "       1, 1, 1, 1, 1, 1, 1, 1, 1, 1, 1, 1, 1, 1, 1, 1, 1, 1, 1, 1, 1, 1,\n",
       "       1, 1, 1, 1, 1, 1, 1, 1, 1, 1, 1, 1, 1, 1, 1, 1, 1, 1, 1, 1, 1, 1,\n",
       "       1, 1, 1, 1, 1, 1, 1, 1, 1, 1, 1, 1, 1, 1, 1, 1, 1, 1, 1, 1, 2, 2,\n",
       "       2, 2, 2, 2, 2, 2, 2, 2, 2, 2, 2, 2, 2, 2, 2, 2, 2, 2, 2, 2, 2, 2,\n",
       "       2, 2, 2, 2, 2, 2, 2, 2, 2, 2, 2, 2, 2, 2, 2, 2, 2, 2, 2, 2, 2, 2,\n",
       "       2, 2])"
      ]
     },
     "execution_count": 129,
     "metadata": {},
     "output_type": "execute_result"
    }
   ],
   "source": [
    "data.target"
   ]
  },
  {
   "cell_type": "code",
   "execution_count": 130,
   "id": "31135db3",
   "metadata": {},
   "outputs": [
    {
     "name": "stdout",
     "output_type": "stream",
     "text": [
      "   alcohol  malic_acid   ash  alcalinity_of_ash  magnesium  total_phenols  \\\n",
      "0    14.23        1.71  2.43               15.6      127.0           2.80   \n",
      "1    13.20        1.78  2.14               11.2      100.0           2.65   \n",
      "\n",
      "   flavanoids  nonflavanoid_phenols  proanthocyanins  color_intensity   hue  \\\n",
      "0        3.06                  0.28             2.29             5.64  1.04   \n",
      "1        2.76                  0.26             1.28             4.38  1.05   \n",
      "\n",
      "   od280/od315_of_diluted_wines  proline  \n",
      "0                          3.92   1065.0  \n",
      "1                          3.40   1050.0  \n"
     ]
    }
   ],
   "source": [
    "# # Converting data to a dataframe to view properly\n",
    "df = pd.DataFrame(data=data['data'],columns=data['feature_names'])\n",
    "# # Printing first 5 observations\n",
    "print(df.head(2))"
   ]
  },
  {
   "cell_type": "code",
   "execution_count": 131,
   "id": "80e78088",
   "metadata": {},
   "outputs": [],
   "source": [
    "df[\"class\"]= data.target"
   ]
  },
  {
   "cell_type": "code",
   "execution_count": 132,
   "id": "fc8c9152",
   "metadata": {},
   "outputs": [
    {
     "data": {
      "text/plain": [
       "(178, 14)"
      ]
     },
     "execution_count": 132,
     "metadata": {},
     "output_type": "execute_result"
    }
   ],
   "source": [
    "df.shape"
   ]
  },
  {
   "cell_type": "code",
   "execution_count": 133,
   "id": "9f2a4bad",
   "metadata": {},
   "outputs": [
    {
     "data": {
      "text/plain": [
       "(178,)"
      ]
     },
     "execution_count": 133,
     "metadata": {},
     "output_type": "execute_result"
    }
   ],
   "source": [
    "y=df.iloc[:,-1]\n",
    "y.shape"
   ]
  },
  {
   "cell_type": "code",
   "execution_count": 134,
   "id": "100dfe6e",
   "metadata": {},
   "outputs": [
    {
     "data": {
      "text/plain": [
       "(178, 13)"
      ]
     },
     "execution_count": 134,
     "metadata": {},
     "output_type": "execute_result"
    }
   ],
   "source": [
    "x=df.iloc[:,:-1]\n",
    "x.shape"
   ]
  },
  {
   "cell_type": "code",
   "execution_count": 135,
   "id": "fbdb63b4",
   "metadata": {},
   "outputs": [],
   "source": [
    "from sklearn.model_selection import train_test_split\n",
    "x_train,x_test,y_train,y_test=train_test_split(x,y,test_size=0.3,random_state=10)"
   ]
  },
  {
   "cell_type": "code",
   "execution_count": 136,
   "id": "0d9b0de8",
   "metadata": {},
   "outputs": [
    {
     "data": {
      "text/plain": [
       "((124, 13), (124,))"
      ]
     },
     "execution_count": 136,
     "metadata": {},
     "output_type": "execute_result"
    }
   ],
   "source": [
    "x_train.shape, y_train.shape"
   ]
  },
  {
   "cell_type": "code",
   "execution_count": 137,
   "id": "585e5067",
   "metadata": {},
   "outputs": [
    {
     "data": {
      "text/plain": [
       "((54, 13), (54,))"
      ]
     },
     "execution_count": 137,
     "metadata": {},
     "output_type": "execute_result"
    }
   ],
   "source": [
    "x_test.shape, y_test.shape"
   ]
  },
  {
   "cell_type": "code",
   "execution_count": 138,
   "id": "0f3f2f1e",
   "metadata": {},
   "outputs": [],
   "source": [
    "# - Import PCA, LDA and Factor Analysis from Sklearn\n",
    "from sklearn.preprocessing import StandardScaler\n",
    "from sklearn.decomposition import PCA\n",
    "from sklearn.decomposition import FactorAnalysis as ft\n",
    "from sklearn.discriminant_analysis import LinearDiscriminantAnalysis as Lda"
   ]
  },
  {
   "cell_type": "code",
   "execution_count": 139,
   "id": "905c5bae",
   "metadata": {},
   "outputs": [],
   "source": [
    "# Standard scaling\n",
    "sc=StandardScaler()\n",
    "x_train=sc.fit_transform(x_train)\n",
    "x_test=sc.transform(x_test)"
   ]
  },
  {
   "cell_type": "code",
   "execution_count": 140,
   "id": "a19357b8",
   "metadata": {},
   "outputs": [
    {
     "data": {
      "text/plain": [
       "array([[ 0.39104412,  1.34788894,  0.30784321, ..., -1.10611259,\n",
       "        -1.50843998, -0.05591876],\n",
       "       [-1.24218124, -1.0886306 ,  0.42800866, ...,  1.48819303,\n",
       "         0.19105095, -0.41565553],\n",
       "       [ 0.09409406, -0.01060217,  1.06889107, ...,  0.29736422,\n",
       "         0.85033622,  1.24812704],\n",
       "       ...,\n",
       "       [ 0.67562127, -0.4926474 ,  1.18905652, ...,  1.36060423,\n",
       "         0.42546349,  1.62285285],\n",
       "       [-1.25455416, -0.18589134, -0.93386645, ..., -0.42563898,\n",
       "         1.01149485, -1.17110276],\n",
       "       [ 0.96019841, -0.8958125 , -0.53331494, ...,  0.21230502,\n",
       "         1.40706601,  0.82843414]])"
      ]
     },
     "execution_count": 140,
     "metadata": {},
     "output_type": "execute_result"
    }
   ],
   "source": [
    "x_train"
   ]
  },
  {
   "cell_type": "code",
   "execution_count": 162,
   "id": "4d80bd30",
   "metadata": {},
   "outputs": [],
   "source": [
    "# PCA Analysis\n",
    "pca = PCA(1)\n",
    "x_train_pca = pca.fit_transform(x_train)\n",
    "x_test_pca = pca.transform(x_test)"
   ]
  },
  {
   "cell_type": "code",
   "execution_count": 163,
   "id": "e8a00a92",
   "metadata": {},
   "outputs": [],
   "source": [
    "# FA \n",
    "fa = ft(n_components=1)\n",
    "x_train_fa = fa.fit_transform(x_train,y_train)\n",
    "x_test_fa = fa.transform(x_test)\n"
   ]
  },
  {
   "cell_type": "code",
   "execution_count": 164,
   "id": "8c7554f3",
   "metadata": {},
   "outputs": [],
   "source": [
    "# LDA\n",
    "lda = Lda(n_components=1)\n",
    "x_train_lda = lda.fit_transform(x_train,y_train)\n",
    "x_test_lda = lda.transform(x_test)"
   ]
  }
 ],
 "metadata": {
  "kernelspec": {
   "display_name": "Python 3 (ipykernel)",
   "language": "python",
   "name": "python3"
  },
  "language_info": {
   "codemirror_mode": {
    "name": "ipython",
    "version": 3
   },
   "file_extension": ".py",
   "mimetype": "text/x-python",
   "name": "python",
   "nbconvert_exporter": "python",
   "pygments_lexer": "ipython3",
   "version": "3.7.6"
  }
 },
 "nbformat": 4,
 "nbformat_minor": 5
}
