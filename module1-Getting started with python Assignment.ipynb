{
 "cells": [
  {
   "cell_type": "code",
   "execution_count": 1,
   "metadata": {},
   "outputs": [
    {
     "name": "stdout",
     "output_type": "stream",
     "text": [
      "List with square of integers from 1 to 10:\n",
      "[1, 4, 9, 16, 25, 36, 49, 64, 81, 100]\n"
     ]
    }
   ],
   "source": [
    "#1.\tWrite code to create a list of numbers that are squares of numbers from 1 to 10\n",
    "l = []\n",
    "\n",
    "for i in range(1, 11):\n",
    "    l.append(i * i)\n",
    "\n",
    "print(\"List with square of integers from 1 to 10:\")\n",
    "print(l)"
   ]
  },
  {
   "cell_type": "code",
   "execution_count": 2,
   "metadata": {},
   "outputs": [
    {
     "name": "stdout",
     "output_type": "stream",
     "text": [
      "Enter the Year to be checked: 1021\n",
      "Not a Leap Year\n"
     ]
    }
   ],
   "source": [
    "#2.\tWrite a function to check if a given year is a leap year\n",
    "def LeapYearCheck(input_year): \n",
    "    if (input_year % 4) == 0: \n",
    "        if (input_year % 100) == 0: \n",
    "            if (input_year % 400) == 0: \n",
    "                return True\n",
    "            else: \n",
    "                return False\n",
    "        else: \n",
    "             return True\n",
    "    else: \n",
    "        return False  \n",
    "    \n",
    "# Driver Code  \n",
    "input_year = int(input(\"Enter the Year to be checked: \"))\n",
    "if(LeapYearCheck(input_year)): \n",
    "    print(\"Leap Year\") \n",
    "else: \n",
    "    print(\"Not a Leap Year\")\n"
   ]
  },
  {
   "cell_type": "code",
   "execution_count": 3,
   "metadata": {},
   "outputs": [
    {
     "name": "stdout",
     "output_type": "stream",
     "text": [
      "[2, 4, 6, 8, 100]\n"
     ]
    }
   ],
   "source": [
    "#3.\tWrite a function that takes a list of numbers and returns a list with only even numbers from the list that was passed as parameters.\n",
    "\n",
    "def is_even_num(l):\n",
    "    enum = []\n",
    "    for n in l:\n",
    "        if n % 2 == 0:\n",
    "            enum.append(n)\n",
    "    return enum\n",
    "\n",
    "print(is_even_num([1, 2, 3, 4, 5, 6, 7, 8, 9,100,101]))\n"
   ]
  },
  {
   "cell_type": "code",
   "execution_count": 10,
   "metadata": {},
   "outputs": [
    {
     "name": "stdout",
     "output_type": "stream",
     "text": [
      "{5}\n",
      "no common elements\n"
     ]
    }
   ],
   "source": [
    "#4.\tWrite a function that takes two lists as parameters and prints the items that are present in both of the lists (intersection of two lists).\n",
    "\n",
    "def common_member(a, b):   \n",
    "    a_set = set(a)\n",
    "    b_set = set(b)\n",
    "     \n",
    "    # check length\n",
    "    if len(a_set.intersection(b_set)) > 0:\n",
    "        return(a_set.intersection(b_set)) \n",
    "    else:\n",
    "        return(\"no common elements\")\n",
    "     \n",
    "  \n",
    "a = [1, 2, 3, 4, 5]\n",
    "b = [5, 6, 7, 8, 9]\n",
    "print(common_member(a, b))\n",
    "  \n",
    "a =[1, 2, 3, 4, 5]\n",
    "b =[6, 7, 8, 9]\n",
    "print(common_member(a, b))\n"
   ]
  },
  {
   "cell_type": "code",
   "execution_count": null,
   "metadata": {},
   "outputs": [],
   "source": []
  }
 ],
 "metadata": {
  "kernelspec": {
   "display_name": "Python 3 (ipykernel)",
   "language": "python",
   "name": "python3"
  },
  "language_info": {
   "codemirror_mode": {
    "name": "ipython",
    "version": 3
   },
   "file_extension": ".py",
   "mimetype": "text/x-python",
   "name": "python",
   "nbconvert_exporter": "python",
   "pygments_lexer": "ipython3",
   "version": "3.9.6"
  }
 },
 "nbformat": 4,
 "nbformat_minor": 4
}
