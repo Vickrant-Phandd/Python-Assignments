{
 "cells": [
  {
   "cell_type": "markdown",
   "metadata": {},
   "source": [
    "Write code to create a class named Employee It should have a constructor that takes name and salary as parameters and stores them in the object. Make sure that when we print the object it Employees name and salary.\n"
   ]
  },
  {
   "cell_type": "code",
   "execution_count": 2,
   "metadata": {},
   "outputs": [],
   "source": [
    "\n",
    "class employee:\n",
    "    def __init__ (self, n, s):\n",
    "        self.name = n\n",
    "        self.salary = s\n",
    "    def emp_details (self):\n",
    "        print('The name of the person is :', self.name)\n",
    "        print('The salary of the person is :', self.salary)\n",
    "        "
   ]
  },
  {
   "cell_type": "code",
   "execution_count": 3,
   "metadata": {},
   "outputs": [],
   "source": [
    "e=employee(\"vickrant\", 50000)"
   ]
  },
  {
   "cell_type": "code",
   "execution_count": 4,
   "metadata": {},
   "outputs": [
    {
     "name": "stdout",
     "output_type": "stream",
     "text": [
      "The name of the person is : vickrant\n",
      "The salary of the person is : 50000\n"
     ]
    }
   ],
   "source": [
    "e.emp_details()"
   ]
  },
  {
   "cell_type": "markdown",
   "metadata": {},
   "source": [
    "Write code to create a class named Calculator\n",
    "Define methods for addition, subtraction, multiplication and division that take in two numbers and return another number after performing their respective operations.\n"
   ]
  },
  {
   "cell_type": "code",
   "execution_count": 5,
   "metadata": {},
   "outputs": [],
   "source": [
    "\n",
    "class calculator:\n",
    "    def add(self, num1, num2):\n",
    "        total1 = num1 + num2\n",
    "        return total1\n",
    "    \n",
    "    def sub(self, num1, num2):\n",
    "        total2 = num1 - num2\n",
    "        return total2\n",
    "    \n",
    "    def mul(self, num1, num2):\n",
    "        total3 = num1 * num2\n",
    "        return total3\n",
    "     \n",
    "    def div(self, num1, num2):\n",
    "        total4 = num1 / num2\n",
    "        return total4\n",
    "   "
   ]
  },
  {
   "cell_type": "code",
   "execution_count": 6,
   "metadata": {},
   "outputs": [],
   "source": [
    "class Calculator:\n",
    "  def __add(self, a, b):\n",
    "    print(\"add value: {}\".format(a+b))\n",
    "  def __subtract(self, a, b):\n",
    "    print(\"subtract value: {}\".format(a-b))\n",
    "  def __multiply(self, a, b):\n",
    "    print(\"multiply value: {}\".format(a*b))\n",
    "  def __divide(self, a, b):\n",
    "    print(\"divide value: {}\".format(a/b))"
   ]
  },
  {
   "cell_type": "markdown",
   "metadata": {},
   "source": [
    "Define another method named execute_command that takes two numbers and a string named command. The command string will be ‘add’, ‘sub’, ‘mul’, ‘div’. Perform Addition, Subtraction, Multiplication and Division on the two numbers respectively. Make sure the execute_commandmrthod is case insensitive (meaning that even if user passes ‘aDd’ as command it should perform addition on two numbers)."
   ]
  },
  {
   "cell_type": "code",
   "execution_count": 7,
   "metadata": {},
   "outputs": [
    {
     "name": "stdout",
     "output_type": "stream",
     "text": [
      "add value: 3\n",
      "subtract value: 4\n",
      "multiply value: 6\n",
      "divide value: 5.0\n"
     ]
    }
   ],
   "source": [
    "class Calculator:\n",
    "  def __add(self, a, b):\n",
    "    print(\"add value: {}\".format(a+b))\n",
    "  def __subtract(self, a, b):\n",
    "    print(\"subtract value: {}\".format(a-b))\n",
    "  def __multiply(self, a, b):\n",
    "    print(\"multiply value: {}\".format(a*b))\n",
    "  def __divide(self, a, b):\n",
    "    print(\"divide value: {}\".format(a/b))\n",
    "  def exeCmd(self, command, a, b):\n",
    "    cmd = command\n",
    "    if cmd == \"add\": self.__add(a,b)\n",
    "    elif cmd == \"sub\": self.__subtract(a,b)\n",
    "    elif cmd == \"mul\": self.__multiply(a,b)\n",
    "    else: self.__divide(a,b) \n",
    "\n",
    "calc = Calculator()\n",
    "calc.exeCmd(\"add\", 1,2)\n",
    "calc.exeCmd(\"sub\",6,2)\n",
    "calc.exeCmd(\"mul\",2,3)\n",
    "calc.exeCmd(\"div\",15,3) "
   ]
  },
  {
   "cell_type": "code",
   "execution_count": null,
   "metadata": {},
   "outputs": [],
   "source": []
  },
  {
   "cell_type": "code",
   "execution_count": null,
   "metadata": {},
   "outputs": [],
   "source": []
  }
 ],
 "metadata": {
  "kernelspec": {
   "display_name": "Python 3 (ipykernel)",
   "language": "python",
   "name": "python3"
  },
  "language_info": {
   "codemirror_mode": {
    "name": "ipython",
    "version": 3
   },
   "file_extension": ".py",
   "mimetype": "text/x-python",
   "name": "python",
   "nbconvert_exporter": "python",
   "pygments_lexer": "ipython3",
   "version": "3.9.6"
  }
 },
 "nbformat": 4,
 "nbformat_minor": 4
}
